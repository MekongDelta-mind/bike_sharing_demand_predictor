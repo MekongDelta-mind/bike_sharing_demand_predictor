{
 "cells": [
  {
   "cell_type": "code",
   "execution_count": 5,
   "metadata": {},
   "outputs": [],
   "source": [
    "%reload_ext autoreload\n",
    "%autoreload 2"
   ]
  },
  {
   "cell_type": "code",
   "execution_count": 6,
   "metadata": {},
   "outputs": [],
   "source": [
    "import src.config as config"
   ]
  },
  {
   "cell_type": "code",
   "execution_count": 7,
   "metadata": {},
   "outputs": [
    {
     "name": "stdout",
     "output_type": "stream",
     "text": [
      "current_date=Timestamp('2023-10-22 07:00:00')\n"
     ]
    }
   ],
   "source": [
    "from datetime import datetime, timedelta\n",
    "\n",
    "import pandas as pd\n",
    "\n",
    "current_date = pd.to_datetime(datetime.utcnow()).floor('H')\n",
    "print(f'{current_date=}')\n",
    "\n",
    "# we fetch raw data for the last 28 days, to add redundancy to our data pipeline\n",
    "fetch_data_to = current_date\n",
    "fetch_data_from = current_date - timedelta(days=28) #28"
   ]
  },
  {
   "cell_type": "code",
   "execution_count": 4,
   "metadata": {},
   "outputs": [],
   "source": [
    "# current_date - timedelta(days=71)"
   ]
  },
  {
   "cell_type": "code",
   "execution_count": 5,
   "metadata": {},
   "outputs": [],
   "source": [
    "# fetch_data_from - timedelta(days=7*52)"
   ]
  },
  {
   "cell_type": "code",
   "execution_count": 6,
   "metadata": {},
   "outputs": [],
   "source": [
    "# prueba = fetch_data_from - timedelta(days=7*52)\n",
    "# prueba.month\n",
    "\n",
    "# from src.data import load_raw_data\n",
    "# prueba = load_raw_data(year=2022, months=8)\n",
    "# prueba"
   ]
  },
  {
   "cell_type": "code",
   "execution_count": 7,
   "metadata": {},
   "outputs": [],
   "source": [
    "# fetch_data_from - timedelta(days=7*52)"
   ]
  },
  {
   "cell_type": "code",
   "execution_count": 8,
   "metadata": {},
   "outputs": [],
   "source": [
    "# apoyo = fetch_data_from - timedelta(days=7*52)\n",
    "# pruebe = prueba[prueba.pickup_datetime >=  apoyo]\n",
    "# prueba"
   ]
  },
  {
   "cell_type": "code",
   "execution_count": 8,
   "metadata": {},
   "outputs": [],
   "source": [
    "from src.data import load_raw_data\n",
    "\n",
    "def fetch_batch_raw_data(from_date: datetime, to_date: datetime) -> pd.DataFrame:\n",
    "    \"\"\"\n",
    "    Simulate production data by sampling historical data from 52 weeks ago (i.e. 1 year)\n",
    "    \"\"\"\n",
    "    from_date_ = from_date - timedelta(days=7*52)\n",
    "    to_date_ = to_date - timedelta(days=7*52)\n",
    "    print(f'{from_date=}, {to_date_=}')\n",
    "\n",
    "    # # download 2 files from website\n",
    "    # rides = load_raw_data(year=from_date_.year) #, months=from_date_.month)\n",
    "    # rides = rides[(rides.pickup_datetime >= from_date_) & (rides.pickup_datetime < to_date_)]\n",
    "   \n",
    "    # rides_2 = load_raw_data(year=to_date_.year) #, months=to_date_.month)\n",
    "    # rides_2 = rides_2[(rides_2.pickup_datetime < to_date_) & (rides_2.pickup_datetime < to_date_)]\n",
    "\n",
    "    # rides = pd.concat([rides, rides_2]) \n",
    "\n",
    "    # Intenta cargar los datos del primer año\n",
    "    rides = load_raw_data(year=from_date_.year)\n",
    "    rides = rides[(rides.pickup_datetime >= from_date_) & (rides.pickup_datetime < to_date_)]\n",
    "\n",
    "    # Verifica si los años son diferentes\n",
    "    if from_date_.year != to_date_.year:\n",
    "    # Carga los datos del segundo año\n",
    "        rides_2 = load_raw_data(year=to_date_.year)\n",
    "        rides_2 = rides_2[(rides_2.pickup_datetime >= from_date_) & (rides_2.pickup_datetime < to_date_)]\n",
    "        rides = pd.concat([rides, rides_2]) \n",
    "\n",
    "\n",
    "    # shift the data to pretend this is recent data\n",
    "    rides['pickup_datetime'] += timedelta(days=7*52)\n",
    "\n",
    "    rides.sort_values(by=['pickup_location_id', 'pickup_datetime'], inplace=True)\n",
    "\n",
    "    return rides"
   ]
  },
  {
   "cell_type": "code",
   "execution_count": 10,
   "metadata": {},
   "outputs": [],
   "source": [
    "# import subprocess\n",
    "# from pathlib import Path\n",
    "\n",
    "# def download_one_file_of_raw_data_with_wget(year: int) -> Path:\n",
    "#     \"\"\"\n",
    "#     Downloads Parquet file with historical bike rides for the given `year`.\n",
    "#     \"\"\"\n",
    "#     # URL del archivo a descargar\n",
    "#     URL = f'https://cdn.buenosaires.gob.ar/datosabiertos/datasets/transporte-y-obras-publicas/bicicletas-publicas/recorridos-realizados-{year}.zip'\n",
    "\n",
    "#     # Ruta de destino para guardar el archivo descargado\n",
    "#     destination_path = RAW_DATA_DIR / f'recorridos-realizados-{year}.zip'\n",
    "\n",
    "#     try:\n",
    "#         # Utiliza wget para descargar el archivo en la ubicación deseada\n",
    "#         subprocess.run(['wget', URL, '-O', destination_path])\n",
    "\n",
    "#         # Verifica si el archivo se descargó correctamente\n",
    "#         if destination_path.is_file():\n",
    "#             print(f'Descargado año {year}')\n",
    "#             return destination_path\n",
    "#         else:\n",
    "#             raise Exception(f'Error al descargar {URL}: El archivo no se descargó correctamente.')\n",
    "\n",
    "#     except Exception as e:\n",
    "#         raise Exception(f'Error al descargar {URL}: {str(e)}')\n",
    "\n",
    "# # Uso de la función para descargar un archivo\n",
    "# download_one_file_of_raw_data_with_wget(2022)"
   ]
  },
  {
   "cell_type": "code",
   "execution_count": 12,
   "metadata": {},
   "outputs": [],
   "source": [
    "# from src.data import unzip_and_convert_csv_to_parquet\n",
    "# unzip_and_convert_csv_to_parquet(2022)"
   ]
  },
  {
   "cell_type": "code",
   "execution_count": 9,
   "metadata": {},
   "outputs": [
    {
     "name": "stdout",
     "output_type": "stream",
     "text": [
      "from_date=Timestamp('2023-09-24 07:00:00'), to_date_=Timestamp('2022-10-23 07:00:00')\n",
      "Downloading file 2022\n",
      "Descargado año 2022\n"
     ]
    }
   ],
   "source": [
    "rides = fetch_batch_raw_data(from_date=fetch_data_from, to_date=fetch_data_to)"
   ]
  },
  {
   "cell_type": "code",
   "execution_count": 14,
   "metadata": {},
   "outputs": [
    {
     "name": "stderr",
     "output_type": "stream",
     "text": [
      "100%|██████████| 320/320 [00:01<00:00, 259.45it/s]\n"
     ]
    }
   ],
   "source": [
    "from src.data import transform_raw_data_into_ts_data\n",
    "ts_data = transform_raw_data_into_ts_data(rides)"
   ]
  },
  {
   "cell_type": "code",
   "execution_count": 15,
   "metadata": {},
   "outputs": [],
   "source": [
    "#Falta agregar lo de filtrar la fecha que corresponde, o quitar los meses que no queremos"
   ]
  },
  {
   "cell_type": "code",
   "execution_count": 16,
   "metadata": {},
   "outputs": [
    {
     "data": {
      "text/html": [
       "<div>\n",
       "<style scoped>\n",
       "    .dataframe tbody tr th:only-of-type {\n",
       "        vertical-align: middle;\n",
       "    }\n",
       "\n",
       "    .dataframe tbody tr th {\n",
       "        vertical-align: top;\n",
       "    }\n",
       "\n",
       "    .dataframe thead th {\n",
       "        text-align: right;\n",
       "    }\n",
       "</style>\n",
       "<table border=\"1\" class=\"dataframe\">\n",
       "  <thead>\n",
       "    <tr style=\"text-align: right;\">\n",
       "      <th></th>\n",
       "      <th>pickup_datetime</th>\n",
       "      <th>pickup_location_id</th>\n",
       "      <th>pickup_hour</th>\n",
       "    </tr>\n",
       "  </thead>\n",
       "  <tbody>\n",
       "    <tr>\n",
       "      <th>1941202</th>\n",
       "      <td>2023-09-23 16:18:51</td>\n",
       "      <td>2</td>\n",
       "      <td>2023-09-23 16:00:00</td>\n",
       "    </tr>\n",
       "    <tr>\n",
       "      <th>1869025</th>\n",
       "      <td>2023-09-23 16:19:03</td>\n",
       "      <td>2</td>\n",
       "      <td>2023-09-23 16:00:00</td>\n",
       "    </tr>\n",
       "    <tr>\n",
       "      <th>2053076</th>\n",
       "      <td>2023-09-23 17:01:22</td>\n",
       "      <td>2</td>\n",
       "      <td>2023-09-23 17:00:00</td>\n",
       "    </tr>\n",
       "    <tr>\n",
       "      <th>2044124</th>\n",
       "      <td>2023-09-23 17:02:14</td>\n",
       "      <td>2</td>\n",
       "      <td>2023-09-23 17:00:00</td>\n",
       "    </tr>\n",
       "    <tr>\n",
       "      <th>2075829</th>\n",
       "      <td>2023-09-23 17:58:48</td>\n",
       "      <td>2</td>\n",
       "      <td>2023-09-23 17:00:00</td>\n",
       "    </tr>\n",
       "  </tbody>\n",
       "</table>\n",
       "</div>"
      ],
      "text/plain": [
       "            pickup_datetime  pickup_location_id         pickup_hour\n",
       "1941202 2023-09-23 16:18:51                   2 2023-09-23 16:00:00\n",
       "1869025 2023-09-23 16:19:03                   2 2023-09-23 16:00:00\n",
       "2053076 2023-09-23 17:01:22                   2 2023-09-23 17:00:00\n",
       "2044124 2023-09-23 17:02:14                   2 2023-09-23 17:00:00\n",
       "2075829 2023-09-23 17:58:48                   2 2023-09-23 17:00:00"
      ]
     },
     "execution_count": 16,
     "metadata": {},
     "output_type": "execute_result"
    }
   ],
   "source": [
    "rides.head()"
   ]
  },
  {
   "cell_type": "code",
   "execution_count": 17,
   "metadata": {},
   "outputs": [
    {
     "data": {
      "text/html": [
       "<div>\n",
       "<style scoped>\n",
       "    .dataframe tbody tr th:only-of-type {\n",
       "        vertical-align: middle;\n",
       "    }\n",
       "\n",
       "    .dataframe tbody tr th {\n",
       "        vertical-align: top;\n",
       "    }\n",
       "\n",
       "    .dataframe thead th {\n",
       "        text-align: right;\n",
       "    }\n",
       "</style>\n",
       "<table border=\"1\" class=\"dataframe\">\n",
       "  <thead>\n",
       "    <tr style=\"text-align: right;\">\n",
       "      <th></th>\n",
       "      <th>pickup_hour</th>\n",
       "      <th>rides</th>\n",
       "      <th>pickup_location_id</th>\n",
       "    </tr>\n",
       "  </thead>\n",
       "  <tbody>\n",
       "    <tr>\n",
       "      <th>215035</th>\n",
       "      <td>2023-10-21 11:00:00</td>\n",
       "      <td>0</td>\n",
       "      <td>443</td>\n",
       "    </tr>\n",
       "    <tr>\n",
       "      <th>215036</th>\n",
       "      <td>2023-10-21 12:00:00</td>\n",
       "      <td>0</td>\n",
       "      <td>443</td>\n",
       "    </tr>\n",
       "    <tr>\n",
       "      <th>215037</th>\n",
       "      <td>2023-10-21 13:00:00</td>\n",
       "      <td>0</td>\n",
       "      <td>443</td>\n",
       "    </tr>\n",
       "    <tr>\n",
       "      <th>215038</th>\n",
       "      <td>2023-10-21 14:00:00</td>\n",
       "      <td>0</td>\n",
       "      <td>443</td>\n",
       "    </tr>\n",
       "    <tr>\n",
       "      <th>215039</th>\n",
       "      <td>2023-10-21 15:00:00</td>\n",
       "      <td>0</td>\n",
       "      <td>443</td>\n",
       "    </tr>\n",
       "  </tbody>\n",
       "</table>\n",
       "</div>"
      ],
      "text/plain": [
       "               pickup_hour  rides  pickup_location_id\n",
       "215035 2023-10-21 11:00:00      0                 443\n",
       "215036 2023-10-21 12:00:00      0                 443\n",
       "215037 2023-10-21 13:00:00      0                 443\n",
       "215038 2023-10-21 14:00:00      0                 443\n",
       "215039 2023-10-21 15:00:00      0                 443"
      ]
     },
     "execution_count": 17,
     "metadata": {},
     "output_type": "execute_result"
    }
   ],
   "source": [
    "ts_data.tail()"
   ]
  },
  {
   "cell_type": "code",
   "execution_count": 18,
   "metadata": {},
   "outputs": [
    {
     "name": "stdout",
     "output_type": "stream",
     "text": [
      "Connected. Call `.close()` to terminate connection gracefully.\n",
      "\n",
      "Logged in to project, explore it here https://c.app.hopsworks.ai:443/p/100501\n",
      "Connected. Call `.close()` to terminate connection gracefully.\n"
     ]
    }
   ],
   "source": [
    "import hopsworks\n",
    "\n",
    "# connect to the project\n",
    "project = hopsworks.login(\n",
    "    project=config.HOPSWORKS_PROJECT_NAME,\n",
    "    api_key_value=config.HOPSWORKS_API_KEY\n",
    ")\n",
    "\n",
    "# connect to the feature store\n",
    "feature_store = project.get_feature_store()\n",
    "\n",
    "# connect to the feature group\n",
    "feature_group = feature_store.get_or_create_feature_group(\n",
    "    name=config.FEATURE_GROUP_NAME,\n",
    "    version=config.FEATURE_GROUP_VERSION,\n",
    "    description=\"Time-series data at hourly frequency\",\n",
    "    primary_key = ['pickup_location_id', 'pickup_hour'],\n",
    "    event_time='pickup_hour',\n",
    ")"
   ]
  },
  {
   "cell_type": "code",
   "execution_count": 19,
   "metadata": {},
   "outputs": [
    {
     "data": {
      "application/vnd.jupyter.widget-view+json": {
       "model_id": "bcf0e44b509448a2a14ec88712c5c2da",
       "version_major": 2,
       "version_minor": 0
      },
      "text/plain": [
       "Uploading Dataframe: 0.00% |          | Rows 0/215040 | Elapsed Time: 00:00 | Remaining Time: ?"
      ]
     },
     "metadata": {},
     "output_type": "display_data"
    },
    {
     "name": "stdout",
     "output_type": "stream",
     "text": [
      "Launching job: time_series_hourly_feature_group_1_offline_fg_backfill\n",
      "Job started successfully, you can follow the progress at \n",
      "https://c.app.hopsworks.ai/p/100501/jobs/named/time_series_hourly_feature_group_1_offline_fg_backfill/executions\n"
     ]
    },
    {
     "data": {
      "text/plain": [
       "(<hsfs.core.job.Job at 0x25e10bf9cd0>, None)"
      ]
     },
     "execution_count": 19,
     "metadata": {},
     "output_type": "execute_result"
    }
   ],
   "source": [
    "feature_group.insert(ts_data, write_options={\"wait_for_job\": True})"
   ]
  }
 ],
 "metadata": {
  "kernelspec": {
   "display_name": ".venv",
   "language": "python",
   "name": "python3"
  },
  "language_info": {
   "codemirror_mode": {
    "name": "ipython",
    "version": 3
   },
   "file_extension": ".py",
   "mimetype": "text/x-python",
   "name": "python",
   "nbconvert_exporter": "python",
   "pygments_lexer": "ipython3",
   "version": "3.9.13"
  },
  "orig_nbformat": 4,
  "vscode": {
   "interpreter": {
    "hash": "b98d97558a062384a76b0309256306c9ce5dd4e2074fe66c33532239207fc923"
   }
  }
 },
 "nbformat": 4,
 "nbformat_minor": 2
}
